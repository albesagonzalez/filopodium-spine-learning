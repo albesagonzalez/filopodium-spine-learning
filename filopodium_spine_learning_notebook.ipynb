{
  "cells": [
    {
      "cell_type": "code",
      "execution_count": 1,
      "metadata": {
        "colab": {
          "base_uri": "https://localhost:8080/"
        },
        "id": "t4M_A2F6daNJ",
        "outputId": "2c5826e2-7173-4dbf-86d3-177c06b0b97f"
      },
      "outputs": [
        {
          "output_type": "stream",
          "name": "stdout",
          "text": [
            "Collecting brian2\n",
            "  Downloading Brian2-2.5.4-cp310-cp310-manylinux_2_17_x86_64.manylinux2014_x86_64.whl (1.6 MB)\n",
            "\u001b[2K     \u001b[90m━━━━━━━━━━━━━━━━━━━━━━━━━━━━━━━━━━━━━━━━\u001b[0m \u001b[32m1.6/1.6 MB\u001b[0m \u001b[31m7.2 MB/s\u001b[0m eta \u001b[36m0:00:00\u001b[0m\n",
            "\u001b[?25hRequirement already satisfied: numpy>=1.21 in /usr/local/lib/python3.10/dist-packages (from brian2) (1.23.5)\n",
            "Requirement already satisfied: cython>=0.29 in /usr/local/lib/python3.10/dist-packages (from brian2) (3.0.6)\n",
            "Requirement already satisfied: sympy>=1.2 in /usr/local/lib/python3.10/dist-packages (from brian2) (1.12)\n",
            "Requirement already satisfied: pyparsing in /usr/local/lib/python3.10/dist-packages (from brian2) (3.1.1)\n",
            "Requirement already satisfied: jinja2>=2.7 in /usr/local/lib/python3.10/dist-packages (from brian2) (3.1.2)\n",
            "Requirement already satisfied: setuptools>=61 in /usr/local/lib/python3.10/dist-packages (from brian2) (67.7.2)\n",
            "Requirement already satisfied: packaging in /usr/local/lib/python3.10/dist-packages (from brian2) (23.2)\n",
            "Requirement already satisfied: MarkupSafe>=2.0 in /usr/local/lib/python3.10/dist-packages (from jinja2>=2.7->brian2) (2.1.3)\n",
            "Requirement already satisfied: mpmath>=0.19 in /usr/local/lib/python3.10/dist-packages (from sympy>=1.2->brian2) (1.3.0)\n",
            "Installing collected packages: brian2\n",
            "Successfully installed brian2-2.5.4\n"
          ]
        }
      ],
      "source": [
        "!pip install brian2"
      ]
    },
    {
      "cell_type": "code",
      "execution_count": 2,
      "metadata": {
        "colab": {
          "base_uri": "https://localhost:8080/"
        },
        "id": "XxImzRPpjgGx",
        "outputId": "025298e3-6fda-4d8f-a2e2-6820eff5b67f"
      },
      "outputs": [
        {
          "output_type": "stream",
          "name": "stdout",
          "text": [
            "rm: cannot remove 'filopodium-spine-learning': No such file or directory\n",
            "Cloning into 'filopodium-spine-learning'...\n",
            "remote: Enumerating objects: 64, done.\u001b[K\n",
            "remote: Counting objects: 100% (64/64), done.\u001b[K\n",
            "remote: Compressing objects: 100% (36/36), done.\u001b[K\n",
            "remote: Total 64 (delta 39), reused 49 (delta 24), pack-reused 0\u001b[K\n",
            "Receiving objects: 100% (64/64), 33.43 KiB | 8.36 MiB/s, done.\n",
            "Resolving deltas: 100% (39/39), done.\n"
          ]
        }
      ],
      "source": [
        "!rm -r filopodium-spine-learning\n",
        "!git clone https://github.com/albesagonzalez/filopodium-spine-learning/"
      ]
    },
    {
      "cell_type": "code",
      "execution_count": 3,
      "metadata": {
        "id": "k11NNCJCjfQ0"
      },
      "outputs": [],
      "source": [
        "from brian2 import *\n",
        "\n",
        "import importlib\n",
        "import seaborn as sns\n",
        "\n",
        "net_func = importlib.import_module(\"filopodium-spine-learning.run_network_functions\")\n",
        "aux = importlib.import_module(\"filopodium-spine-learning.aux\")\n",
        "\n",
        "coop_colour = plt.cm.tab20(6)\n",
        "comp_colour = plt.cm.tab20(0)\n",
        "red = plt.cm.tab20(6)\n",
        "orange = plt.cm.tab20(3)\n",
        "green = plt.cm.tab20(4)\n",
        "filo_colour = plt.cm.tab20(14)\n",
        "spine_colour = plt.cm.tab20(8)\n",
        "A_colour = spine_colour\n",
        "B_colour = plt.cm.tab20(2)"
      ]
    },
    {
      "cell_type": "code",
      "execution_count": 4,
      "metadata": {
        "id": "g82JA1SvluwQ"
      },
      "outputs": [],
      "source": [
        "#define neuron physiological parameters\n",
        "neuron_params = {}\n",
        "neuron_params[\"C_m\"] = 200*pfarad\n",
        "neuron_params[\"R_m\"] = 100*Mohm\n",
        "neuron_params[\"tau_m\"] = neuron_params[\"C_m\"]*neuron_params[\"R_m\"]\n",
        "neuron_params[\"v_thres\"] = -54*mV\n",
        "neuron_params[\"v_rest\"] = -70*mV\n",
        "neuron_params[\"E_exc\"] = 0*mV\n",
        "neuron_params[\"E_inh\"] = -70*mV\n",
        "neuron_params[\"g_exc_hat\"] = 0.15*nsiemens\n",
        "neuron_params[\"g_inh_hat\"] = 0.25*nsiemens\n",
        "neuron_params[\"tau_exc\"] = 5*ms\n",
        "neuron_params[\"tau_inh\"] = 5*ms\n",
        "\n",
        "#define learning parameters\n",
        "plasticity_params = {}\n",
        "plasticity_params[\"add\"] = 0\n",
        "plasticity_params[\"mlt\"] = 0\n",
        "plasticity_params[\"a\"] = 0\n",
        "plasticity_params[\"q\"] = 8\n",
        "plasticity_params[\"mu_plus\"] = 0\n",
        "plasticity_params[\"mu_minus\"] = 0\n",
        "plasticity_params[\"tau_mu\"] = 20*second\n",
        "plasticity_params[\"mu_3\"] = 1\n",
        "plasticity_params[\"tau_plus\"] = 20*ms\n",
        "plasticity_params[\"tau_minus\"] = 20*ms\n",
        "plasticity_params[\"w0_plus\"] = 1\n",
        "plasticity_params[\"w0_minus\"] = 0.5\n",
        "plasticity_params[\"lmbda\"] = 0.006\n",
        "plasticity_params[\"alpha\"] = 1.35\n",
        "\n",
        "#define network architecture and simulation specs\n",
        "simulation_params = {}\n",
        "simulation_params[\"total_time\"] = 150*second\n",
        "simulation_params[\"integration_dt\"] = 0.5*ms\n",
        "simulation_params[\"input_dt\"] = 1*second\n",
        "simulation_params[\"w_recording_dt\"] = 1*second\n",
        "simulation_params[\"N_pre\"] = 1000\n",
        "simulation_params[\"r_pre\"] = 30*Hz\n",
        "simulation_params[\"N_post\"] = 1\n",
        "simulation_params[\"class_pools\"] = False\n",
        "simulation_params[\"w\"] = 0.3\n",
        "simulation_params[\"seed\"] = 0"
      ]
    },
    {
      "cell_type": "code",
      "execution_count": 6,
      "metadata": {
        "id": "5nkHc3C5QV8P"
      },
      "outputs": [],
      "source": [
        "c_tot = 60\n",
        "kappa = 8\n",
        "current_time = 0*second\n",
        "A_duration = 150*second\n",
        "simulation_params[\"N_pre\"] = 1000\n",
        "patterns = []\n",
        "pattern = {}\n",
        "pattern[\"start_time\"] = current_time\n",
        "pattern[\"duration\"] = A_duration\n",
        "pattern[\"c\"] = aux.get_vm_corr(0, kappa, c_tot)\n",
        "pattern[\"c\"] = c_tot*pattern[\"c\"]/np.sum(pattern[\"c\"])\n",
        "\n",
        "patterns.append(pattern)\n",
        "current_time += pattern[\"duration\"]\n",
        "simulation_params[\"total_time\"] = current_time\n",
        "simulation_params[\"c\"] = aux.c_timed_array(patterns, simulation_params)\n",
        "simulation_params[\"I_ext\"] = aux.get_zero_current(simulation_params, 0)"
      ]
    },
    {
      "cell_type": "code",
      "execution_count": 7,
      "metadata": {
        "colab": {
          "base_uri": "https://localhost:8080/"
        },
        "id": "LJJKK715Qnhl",
        "outputId": "0d9a457c-a398-4515-dc80-5457f8566e89"
      },
      "outputs": [
        {
          "output_type": "stream",
          "name": "stderr",
          "text": [
            "WARNING    'N_post' is an internal variable of group 'synapses', but also exists in the run namespace with the value 1. The internal variable will be used. [brian2.groups.group.Group.resolve.resolution_conflict]\n"
          ]
        },
        {
          "output_type": "stream",
          "name": "stdout",
          "text": [
            "Starting simulation at t=0. s for a duration of 150. s\n",
            "22.3545 s (14%) simulated in 10s, estimated 57s remaining.\n",
            "47.073 s (31%) simulated in 20s, estimated 44s remaining.\n",
            "70.077 s (46%) simulated in 30s, estimated 34s remaining.\n",
            "92.9705 s (61%) simulated in 40s, estimated 25s remaining.\n",
            "115.974 s (77%) simulated in 50s, estimated 15s remaining.\n",
            "141.88 s (94%) simulated in 1m 0s, estimated 3s remaining.\n",
            "150. s (100%) simulated in 1m 4s\n",
            "Starting simulation at t=0. s for a duration of 150. s\n",
            "24.2645 s (16%) simulated in 10s, estimated 52s remaining.\n",
            "47.6565 s (31%) simulated in 20s, estimated 43s remaining.\n",
            "73.006 s (48%) simulated in 30s, estimated 32s remaining.\n",
            "97.2125 s (64%) simulated in 40s, estimated 22s remaining.\n",
            "120.53 s (80%) simulated in 50s, estimated 12s remaining.\n",
            "143.0415 s (95%) simulated in 1m 0s, estimated 3s remaining.\n",
            "150. s (100%) simulated in 1m 2s\n",
            "Starting simulation at t=0. s for a duration of 150. s\n",
            "23.0405 s (15%) simulated in 10s, estimated 55s remaining.\n",
            "46.311 s (30%) simulated in 20s, estimated 45s remaining.\n",
            "69.81 s (46%) simulated in 30s, estimated 34s remaining.\n",
            "95.4535 s (63%) simulated in 40s, estimated 23s remaining.\n",
            "118.9225 s (79%) simulated in 50s, estimated 13s remaining.\n",
            "141.6505 s (94%) simulated in 1m 0s, estimated 4s remaining.\n",
            "150. s (100%) simulated in 1m 3s\n",
            "Starting simulation at t=0. s for a duration of 150. s\n",
            "22.97 s (15%) simulated in 10s, estimated 55s remaining.\n",
            "46.4815 s (30%) simulated in 20s, estimated 45s remaining.\n",
            "70.408 s (46%) simulated in 30s, estimated 34s remaining.\n",
            "93.9055 s (62%) simulated in 40s, estimated 24s remaining.\n",
            "115.368 s (76%) simulated in 50s, estimated 15s remaining.\n",
            "138.2315 s (92%) simulated in 1m 0s, estimated 5s remaining.\n",
            "150. s (100%) simulated in 1m 4s\n",
            "Starting simulation at t=0. s for a duration of 150. s\n",
            "20.806 s (13%) simulated in 10s, estimated 1m 2s remaining.\n",
            "44.1885 s (29%) simulated in 20s, estimated 48s remaining.\n",
            "67.562 s (45%) simulated in 30s, estimated 37s remaining.\n",
            "90.047 s (60%) simulated in 40s, estimated 27s remaining.\n",
            "112.171 s (74%) simulated in 50s, estimated 17s remaining.\n",
            "135.326 s (90%) simulated in 1m 0s, estimated 7s remaining.\n",
            "150. s (100%) simulated in 1m 6s\n"
          ]
        }
      ],
      "source": [
        "plasticity_params[\"mu_plus\"] = 0\n",
        "plasticity_params[\"mu_minus\"] = 0\n",
        "plasticity_params[\"add\"] = 0\n",
        "plasticity_params[\"mlt\"] = 0\n",
        "plasticity_params[\"nlta\"] = 0\n",
        "plasticity_params[\"FS\"] = 1\n",
        "spike_ref_mon, spike_pre_mon, spike_post_mon, w_trajs_FS, mu_trajs_FS, post_mon_FS = net_func.run_FS_network(neuron_params, plasticity_params, simulation_params)\n",
        "w_FS = np.mean(w_trajs_FS[:, -10:], axis=1)\n",
        "filo_index_FS = np.where(w_FS < plasticity_params[\"w0_minus\"])[0]\n",
        "spine_index_FS = np.where(w_FS >= plasticity_params[\"w0_minus\"])[0]\n",
        "\n",
        "\n",
        "\n",
        "plasticity_params[\"mu_plus\"] = 0\n",
        "plasticity_params[\"mu_minus\"] = 0\n",
        "plasticity_params[\"add\"] = 1\n",
        "plasticity_params[\"mlt\"] = 0\n",
        "plasticity_params[\"nlta\"] = 0\n",
        "plasticity_params[\"FS\"] = 0\n",
        "spike_ref_mon, spike_pre_mon, spike_post_mon, w_trajs_add, mu_trajs_add, post_mon_add = net_func.run_FS_network(neuron_params, plasticity_params, simulation_params)\n",
        "w_add = np.mean(w_trajs_add[:, -10:], axis=1)\n",
        "filo_index_add = np.where(w_add < plasticity_params[\"w0_minus\"])[0]\n",
        "spine_index_add = np.where(w_add >= plasticity_params[\"w0_minus\"])[0]\n",
        "\n",
        "plasticity_params[\"mu_plus\"] = 0\n",
        "plasticity_params[\"mu_minus\"] = 0\n",
        "plasticity_params[\"add\"] = 0\n",
        "plasticity_params[\"mlt\"] = 1\n",
        "plasticity_params[\"nlta\"] = 0\n",
        "plasticity_params[\"FS\"] = 0\n",
        "spike_ref_mon, spike_pre_mon, spike_post_mon, w_trajs_mlt, mu_trajs_mlt, post_mon_mlt = net_func.run_FS_network(neuron_params, plasticity_params, simulation_params)\n",
        "w_mlt = np.mean(w_trajs_mlt[:, -10:], axis=1)\n",
        "filo_index_mlt = np.where(w_mlt < plasticity_params[\"w0_minus\"])[0]\n",
        "spine_index_mlt = np.where(w_mlt >= plasticity_params[\"w0_minus\"])[0]\n",
        "\n",
        "\n",
        "plasticity_params[\"mu_plus\"] = 0.1\n",
        "plasticity_params[\"mu_minus\"] = 0.1\n",
        "plasticity_params[\"add\"] = 0\n",
        "plasticity_params[\"mlt\"] = 0\n",
        "plasticity_params[\"nlta\"] = 1\n",
        "plasticity_params[\"FS\"] = 0\n",
        "plasticity_params[\"w0_minus\"] = 0.\n",
        "spike_ref_mon, spike_pre_mon, spike_post_mon, w_trajs_nlta, mu_trajs_nlta, post_mon_nlta = net_func.run_FS_network(neuron_params, plasticity_params, simulation_params)\n",
        "w_nlta = np.mean(w_trajs_nlta[:, -10:], axis=1)\n",
        "filo_index_nlta = np.where(w_nlta < plasticity_params[\"w0_minus\"])[0]\n",
        "spine_index_nlta = np.where(w_nlta >= plasticity_params[\"w0_minus\"])[0]\n",
        "\n",
        "plasticity_params[\"w0_minus\"] = 0.5\n",
        "spike_ref_mon, spike_pre_mon, spike_post_mon, w_trajs_nlta_star, mu_trajs_nlta_star, post_mon_nlta_star = net_func.run_FS_network(neuron_params, plasticity_params, simulation_params)\n",
        "w_nlta_star = np.mean(w_trajs_nlta_star[:, -10:], axis=1)\n",
        "filo_index_nlta_star = np.where(w_nlta_star < plasticity_params[\"w0_minus\"])[0]\n",
        "spine_index_nlta_star = np.where(w_nlta_star >= plasticity_params[\"w0_minus\"])[0]"
      ]
    },
    {
      "cell_type": "code",
      "execution_count": 8,
      "metadata": {
        "colab": {
          "base_uri": "https://localhost:8080/",
          "height": 306
        },
        "id": "LTu1ISRFQ2lV",
        "outputId": "5a99f136-64e0-4561-bde5-5b74e8f89c60"
      },
      "outputs": [
        {
          "output_type": "display_data",
          "data": {
            "text/plain": [
              "<Figure size 1000x300 with 5 Axes>"
            ],
            "image/png": "[encoded data removed]"
          },
          "metadata": {}
        }
      ],
      "source": [
        "fig, axs = plt.subplots(1, 5,  sharey='row', figsize=(10,3))\n",
        "titles = [r\"FS-STDP\", r\"add-STDP\", r\"mlt-STDP\",r\"nlta-STDP\", r\"nlta$^*$-STDP\"]\n",
        "for ax, w_trajs, title in zip(axs, [w_trajs_FS, w_trajs_add, w_trajs_mlt, w_trajs_nlta, w_trajs_nlta_star], titles):\n",
        "  w = np.mean(w_trajs[:, -10:], axis=1)\n",
        "  filo_index = np.where(w < plasticity_params[\"w0_minus\"])[0]\n",
        "  spine_index = np.where(w >= plasticity_params[\"w0_minus\"])[0]\n",
        "  ax.scatter(filo_index, w[filo_index], color=filo_colour, s=1)\n",
        "  ax.scatter(spine_index, w[spine_index], color=spine_colour, s=1)\n",
        "  ax.set_title(title)\n",
        "  ax.set_xticks([0, 500, 1000], [r\"$-\\pi$\",  r\"$0$\",  r\"$\\pi$\"], fontsize=18)\n",
        "  ax.set_xlabel(r\"Neuron ID\", fontsize=20)\n",
        "axs[0].set_yticks([0, 1], [0, 1], fontsize=18)\n",
        "axs[0].set_ylabel(r\"weight $w$\", fontsize=18)\n",
        "sns.despine()\n",
        "plt.tight_layout()"
      ]
    },
    {
      "cell_type": "code",
      "source": [],
      "metadata": {
        "id": "jatVE1GlAJM_"
      },
      "execution_count": null,
      "outputs": []
    }
  ],
  "metadata": {
    "colab": {
      "provenance": []
    },
    "kernelspec": {
      "display_name": "Python 3",
      "name": "python3"
    },
    "language_info": {
      "name": "python"
    }
  },
  "nbformat": 4,
  "nbformat_minor": 0
}